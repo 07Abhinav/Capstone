{
 "cells": [
  {
   "cell_type": "code",
   "execution_count": 1,
   "id": "eb13f51c",
   "metadata": {},
   "outputs": [
    {
     "name": "stderr",
     "output_type": "stream",
     "text": [
      "c:\\Users\\abhinav bhardwaj\\miniconda3\\envs\\ml\\lib\\site-packages\\tensorflow\\python\\keras\\engine\\training_arrays_v1.py:37: UserWarning: A NumPy version >=1.23.5 and <2.3.0 is required for this version of SciPy (detected version 1.23.0)\n",
      "  from scipy.sparse import issparse  # pylint: disable=g-import-not-at-top\n"
     ]
    }
   ],
   "source": [
    "import tensorflow as tf\n",
    "from tensorflow.keras.preprocessing.image import ImageDataGenerator\n",
    "from tensorflow.keras.models import Sequential\n",
    "from tensorflow.keras.layers import Conv2D, MaxPooling2D, Flatten, Dense, Dropout"
   ]
  },
  {
   "cell_type": "code",
   "execution_count": 2,
   "id": "51fdf1db",
   "metadata": {},
   "outputs": [],
   "source": [
    "train_data_dir = 'dataset'"
   ]
  },
  {
   "cell_type": "code",
   "execution_count": 3,
   "id": "774bd89e",
   "metadata": {},
   "outputs": [],
   "source": [
    "train_datagen = ImageDataGenerator(rescale = 1./255.,rotation_range = 40, width_shift_range = 0.2, height_shift_range = 0.2, shear_range = 0.2, zoom_range = 0.2, horizontal_flip = True)"
   ]
  },
  {
   "cell_type": "code",
   "execution_count": 4,
   "id": "73f6b829",
   "metadata": {},
   "outputs": [
    {
     "name": "stdout",
     "output_type": "stream",
     "text": [
      "Found 2829 images belonging to 2 classes.\n"
     ]
    }
   ],
   "source": [
    "train_generator = train_datagen.flow_from_directory(train_data_dir, batch_size = 20, class_mode = 'binary', target_size = (224, 224))"
   ]
  },
  {
   "cell_type": "code",
   "execution_count": 5,
   "id": "7cf175c5",
   "metadata": {},
   "outputs": [
    {
     "name": "stderr",
     "output_type": "stream",
     "text": [
      "c:\\Users\\abhinav bhardwaj\\miniconda3\\envs\\ml\\lib\\site-packages\\keras\\optimizers\\optimizer_v2\\rmsprop.py:140: UserWarning: The `lr` argument is deprecated, use `learning_rate` instead.\n",
      "  super().__init__(name, **kwargs)\n"
     ]
    },
    {
     "name": "stdout",
     "output_type": "stream",
     "text": [
      "Epoch 1/10\n",
      "20/20 [==============================] - 18s 328ms/step - loss: 0.6342 - acc: 0.7700\n",
      "Epoch 2/10\n",
      "20/20 [==============================] - 7s 348ms/step - loss: 0.5434 - acc: 0.7815\n",
      "Epoch 3/10\n",
      "20/20 [==============================] - 6s 283ms/step - loss: 0.5041 - acc: 0.7975\n",
      "Epoch 4/10\n",
      "20/20 [==============================] - 5s 259ms/step - loss: 0.5751 - acc: 0.7550\n",
      "Epoch 5/10\n",
      "20/20 [==============================] - 5s 258ms/step - loss: 0.5780 - acc: 0.7650\n",
      "Epoch 6/10\n",
      "20/20 [==============================] - 5s 270ms/step - loss: 0.4773 - acc: 0.8025\n",
      "Epoch 7/10\n",
      "20/20 [==============================] - 5s 268ms/step - loss: 0.5155 - acc: 0.7750\n",
      "Epoch 8/10\n",
      "20/20 [==============================] - 6s 285ms/step - loss: 0.5312 - acc: 0.7700\n",
      "Epoch 9/10\n",
      "20/20 [==============================] - 6s 290ms/step - loss: 0.4472 - acc: 0.8050\n",
      "Epoch 10/10\n",
      "20/20 [==============================] - 6s 273ms/step - loss: 0.4227 - acc: 0.8325\n",
      "Final Accuracy:  0.8324999809265137\n"
     ]
    }
   ],
   "source": [
    "from tensorflow.keras.applications.inception_v3 import InceptionV3\n",
    "from tensorflow.keras.callbacks import EarlyStopping\n",
    "\n",
    "# Load InceptionV3 model\n",
    "base_model = InceptionV3(input_shape=(224, 224, 3), include_top=False, weights='imagenet')\n",
    "\n",
    "# Freeze the layers in the base model\n",
    "for layer in base_model.layers:\n",
    "    layer.trainable = False\n",
    "\n",
    "# Add your custom fully connected layers\n",
    "x = tf.keras.layers.GlobalAveragePooling2D()(base_model.output)\n",
    "x = tf.keras.layers.Dense(512, activation='relu')(x)\n",
    "x = tf.keras.layers.Dropout(0.5)(x)\n",
    "x = tf.keras.layers.Dense(1, activation='sigmoid')(x)\n",
    "\n",
    "# Create the new model\n",
    "model = tf.keras.models.Model(base_model.input, x)\n",
    "\n",
    "# Add EarlyStopping callback to monitor training loss\n",
    "early_stopping = EarlyStopping(monitor='loss', patience=3, restore_best_weights=True)\n",
    "\n",
    "# Compile the model with the callback\n",
    "model.compile(optimizer=tf.keras.optimizers.RMSprop(lr=0.0001), \n",
    "              loss='binary_crossentropy', \n",
    "              metrics=['acc'])\n",
    "\n",
    "# Train the model with early stopping using generator\n",
    "inception_hist = model.fit(train_generator, \n",
    "                           steps_per_epoch=20, \n",
    "                           epochs=10, \n",
    "                           callbacks=[early_stopping])\n",
    "\n",
    "# Print the final accuracy\n",
    "print(\"Final Accuracy: \", inception_hist.history['acc'][-1])\n"
   ]
  }
 ],
 "metadata": {
  "kernelspec": {
   "display_name": "Python 3 (ipykernel)",
   "language": "python",
   "name": "python3"
  },
  "language_info": {
   "codemirror_mode": {
    "name": "ipython",
    "version": 3
   },
   "file_extension": ".py",
   "mimetype": "text/x-python",
   "name": "python",
   "nbconvert_exporter": "python",
   "pygments_lexer": "ipython3",
   "version": "3.10.15"
  }
 },
 "nbformat": 4,
 "nbformat_minor": 5
}
